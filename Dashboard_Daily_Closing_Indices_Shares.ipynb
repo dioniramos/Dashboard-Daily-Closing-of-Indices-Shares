{
 "metadata": {
  "language_info": {
   "codemirror_mode": {
    "name": "ipython",
    "version": 3
   },
   "file_extension": ".py",
   "mimetype": "text/x-python",
   "name": "python",
   "nbconvert_exporter": "python",
   "pygments_lexer": "ipython3",
   "version": "3.8.5-final"
  },
  "orig_nbformat": 2,
  "kernelspec": {
   "name": "python3",
   "display_name": "Python 3",
   "language": "python"
  }
 },
 "nbformat": 4,
 "nbformat_minor": 2,
 "cells": [
  {
   "source": [
    "# Dashboard Daily Closing of Indices Shares \n",
    "***\n",
    "\n",
    "**Obetivo**:\n",
    "    * Criação de um Dashboard com as maiores altas e baixas de um Indice de ações para postagem em redes sociais;\n",
    "\n",
    "* Imports\n",
    "* Webscraping da carteira\n",
    "* Acesso aos ultimos fechamentos\n",
    "* Criação do Dashboard\n",
    "* Salvar em formato .png\n"
   ],
   "cell_type": "markdown",
   "metadata": {}
  },
  {
   "source": [
    "### Imports"
   ],
   "cell_type": "markdown",
   "metadata": {}
  },
  {
   "cell_type": "code",
   "execution_count": null,
   "metadata": {},
   "outputs": [],
   "source": [
    "import pandas as pd\n",
    "pd.set_option('display.min_rows', 50)\n",
    "pd.set_option('display.max_rows', 200)"
   ]
  },
  {
   "source": [
    "### Webscraping da carteira"
   ],
   "cell_type": "markdown",
   "metadata": {}
  },
  {
   "cell_type": "code",
   "execution_count": null,
   "metadata": {},
   "outputs": [],
   "source": [
    "def buscar_carteira_teorica(indice):\n",
    "    url = 'http://bvmf.bmfbovespa.com.br/indices/ResumoCarteiraTeorica.aspx?Indice={}&amp;idioma=pt-br'.format(indice.upper())\n",
    "    return pd.read_html(url, decimal=',', thousands='.', index_col='Código')[0][:-1]"
   ]
  },
  {
   "cell_type": "code",
   "execution_count": null,
   "metadata": {},
   "outputs": [],
   "source": [
    "# IBOVESPA\n",
    "IBOV = buscar_carteira_teorica('IBOV')\n",
    "IBOV.sort_values('Part. (%)', ascending=False)"
   ]
  },
  {
   "cell_type": "code",
   "execution_count": null,
   "metadata": {},
   "outputs": [],
   "source": [
    "# SMALL CAPS\n",
    "SMLL = buscar_carteira_teorica('SMLL')\n",
    "SMLL.sort_values('Part. (%)', ascending=False)"
   ]
  },
  {
   "source": [
    "### Acesso aos ultimos fechamentos"
   ],
   "cell_type": "markdown",
   "metadata": {}
  },
  {
   "source": [
    "### Criação do Dashboard"
   ],
   "cell_type": "markdown",
   "metadata": {}
  },
  {
   "source": [
    "### Salvar em formato .png"
   ],
   "cell_type": "markdown",
   "metadata": {}
  }
 ]
}